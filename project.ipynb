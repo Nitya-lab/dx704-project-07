{
  "cells": [
    {
      "cell_type": "markdown",
      "metadata": {
        "id": "Md413FzAvFD8"
      },
      "source": [
        "# DX 704 Week 7 Project\n",
        "\n",
        "This week's project will investigate issues in a quadcopter controller based using a linear quadratic regulator.\n",
        "You will start with an existing model of the system and logs from a quadcopter based on it, investigate discrepancies, and ultimately train a new model of the system dynamics."
      ]
    },
    {
      "cell_type": "markdown",
      "metadata": {
        "id": "PTIhFidP-KvD"
      },
      "source": [
        "The full project description and a template notebook are available on GitHub: [Project 7 Materials](https://github.com/bu-cds-dx704/dx704-project-07).\n"
      ]
    },
    {
      "cell_type": "markdown",
      "metadata": {
        "id": "52eGFDLZdsBy"
      },
      "source": [
        "## Example Code\n",
        "\n",
        "You may find it helpful to refer to these GitHub repositories of Jupyter notebooks for example code.\n",
        "\n",
        "* https://github.com/bu-cds-omds/dx601-examples\n",
        "* https://github.com/bu-cds-omds/dx602-examples\n",
        "* https://github.com/bu-cds-omds/dx603-examples\n",
        "* https://github.com/bu-cds-omds/dx704-examples\n",
        "\n",
        "Any calculations demonstrated in code examples or videos may be found in these notebooks, and you are allowed to copy this example code in your homework answers."
      ]
    },
    {
      "cell_type": "markdown",
      "metadata": {
        "id": "d7IKpQFK_AGF"
      },
      "source": [
        "## Introduction\n",
        "\n",
        "You've just joined a drone startup.\n",
        "On your first day, you join your new team to watch a test flight for a new quadcopter prototype.\n",
        "Watching the prototype fly, the team comments that it is not as smooth as usual and suspects that something is off in the controller.\n",
        "They provide you a copy of the dynamics model and log data from the prototype to investigate."
      ]
    },
    {
      "cell_type": "markdown",
      "metadata": {
        "id": "_Ks7EK6h3ktC"
      },
      "source": [
        "The quadcopter control model is a slightly more sophisticated version of the 1D quadcopter problem previously considered.\n",
        "\n",
        "The state vector $\\mathbf{x}_t$ now includes an acceleration component, and the action vector now has a servo control for the throttle instead of a raw force component.\n",
        "\\begin{array}{rcl}\n",
        "\\mathbf{x}_t & = & \\begin{bmatrix} x_t \\\\ v_t \\\\ a_t \\end{bmatrix} \\\\\n",
        "\\mathbf{u_t} & = & \\begin{bmatrix} u_t \\end{bmatrix}\n",
        "\\end{array}"
      ]
    },
    {
      "cell_type": "markdown",
      "metadata": {
        "id": "C8oSLkMqvMFF"
      },
      "source": [
        "## Part 1: Reconstruct the Control Matrix\n",
        "\n",
        "You are provided the dynamics model in the files `model-A.tsv`, `model-B.tsv`, `cost-Q.tsv` and `cost-R.tsv`.\n",
        "Recompute the control matrix $\\mathbf{K}$ to be used in the infinite horizon linear quadratic regulator problem."
      ]
    },
    {
      "cell_type": "code",
      "execution_count": 21,
      "metadata": {},
      "outputs": [],
      "source": [
        "# YOUR CHANGES HERE\n",
        "\n",
        "import numpy as np\n",
        "import pandas as pd\n",
        "\n",
        "# Loading\n",
        "A_df = pd.read_csv(\"model-A.tsv\", sep=\"\\t\")\n",
        "B_df = pd.read_csv(\"model-B.tsv\", sep=\"\\t\")\n",
        "Q_df = pd.read_csv(\"cost-Q.tsv\",  sep=\"\\t\")\n",
        "R_df = pd.read_csv(\"cost-R.tsv\",  sep=\"\\t\")\n",
        "\n",
        "state_cols = [\"x\", \"v\", \"a\"] if set([\"x\",\"v\",\"a\"]).issubset(A_df.columns) else A_df.columns.tolist()\n",
        "A = A_df[state_cols].to_numpy(float)\n",
        "Q = Q_df[state_cols].loc[:, state_cols].to_numpy(float)\n",
        "\n",
        "act_col = \"u\" if \"u\" in B_df.columns else B_df.columns[0]\n",
        "B = B_df[[act_col]].to_numpy(float)\n",
        "R = (R_df[[act_col]] if act_col in R_df.columns else R_df.iloc[:, :1]).to_numpy(float)\n",
        "\n",
        "def solve_dare(A, B, Q, R, tol=1e-12, max_iter=10000):\n",
        "    P = Q.copy()\n",
        "    AT, BT = A.T, B.T\n",
        "    for _ in range(max_iter):\n",
        "        S  = R + BT @ P @ B                \n",
        "        K  = np.linalg.solve(S, BT @ P @ A) \n",
        "        Pn = Q + AT @ P @ A - AT @ P @ B @ K\n",
        "        if np.linalg.norm(Pn - P, ord='fro') < tol:\n",
        "            P = Pn\n",
        "            break\n",
        "        P = Pn\n",
        "\n",
        "    S = R + BT @ P @ B\n",
        "    K = np.linalg.solve(S, BT @ P @ A)\n",
        "    return K, P\n",
        "\n",
        "K, _ = solve_dare(A, B, Q, R)   \n"
      ]
    },
    {
      "cell_type": "markdown",
      "metadata": {
        "id": "BDS1s6W9m5G1"
      },
      "source": [
        "Save $\\mathbf{K}$ in a file \"control-K-intended.tsv\" with columns x, v and a."
      ]
    },
    {
      "cell_type": "code",
      "execution_count": 22,
      "metadata": {
        "id": "heCP8JhgnEIC"
      },
      "outputs": [
        {
          "name": "stdout",
          "output_type": "stream",
          "text": [
            "Wrote control-K-intended.tsv\n"
          ]
        },
        {
          "data": {
            "text/html": [
              "<div>\n",
              "<style scoped>\n",
              "    .dataframe tbody tr th:only-of-type {\n",
              "        vertical-align: middle;\n",
              "    }\n",
              "\n",
              "    .dataframe tbody tr th {\n",
              "        vertical-align: top;\n",
              "    }\n",
              "\n",
              "    .dataframe thead th {\n",
              "        text-align: right;\n",
              "    }\n",
              "</style>\n",
              "<table border=\"1\" class=\"dataframe\">\n",
              "  <thead>\n",
              "    <tr style=\"text-align: right;\">\n",
              "      <th></th>\n",
              "      <th>x</th>\n",
              "      <th>v</th>\n",
              "      <th>a</th>\n",
              "    </tr>\n",
              "  </thead>\n",
              "  <tbody>\n",
              "    <tr>\n",
              "      <th>0</th>\n",
              "      <td>0.33446</td>\n",
              "      <td>1.304454</td>\n",
              "      <td>1.858131</td>\n",
              "    </tr>\n",
              "  </tbody>\n",
              "</table>\n",
              "</div>"
            ],
            "text/plain": [
              "         x         v         a\n",
              "0  0.33446  1.304454  1.858131"
            ]
          },
          "execution_count": 22,
          "metadata": {},
          "output_type": "execute_result"
        }
      ],
      "source": [
        "# YOUR CHANGES HERE\n",
        "\n",
        "out = pd.DataFrame([K.flatten()], columns=state_cols)\n",
        "out.to_csv(\"control-K-intended.tsv\", sep=\"\\t\", index=False, float_format=\"%.9f\")\n",
        "print(\"Wrote control-K-intended.tsv\")\n",
        "out"
      ]
    },
    {
      "cell_type": "markdown",
      "metadata": {
        "id": "emwSwtKjnG8y"
      },
      "source": [
        "Submit \"control-K-intended.tsv\" in Gradescope."
      ]
    },
    {
      "cell_type": "markdown",
      "metadata": {
        "id": "fqbtALHx_z7l"
      },
      "source": [
        "## Part 2: Recompute the Actions for the Logged States\n",
        "\n",
        "You get access to the log data for the prototype as the file \"qc-log.tsv\".\n",
        "It conveniently saves all the state and actions made.\n",
        "Recompute the actions based on your $\\mathbf{K}$ matrix computed in part 1."
      ]
    },
    {
      "cell_type": "code",
      "execution_count": 23,
      "metadata": {
        "id": "DsbCg2TjoFpp"
      },
      "outputs": [],
      "source": [
        "# YOUR CHANGES HERE\n",
        "\n",
        "import numpy as np\n",
        "import pandas as pd\n",
        "\n",
        "# Loading\n",
        "K = pd.read_csv(\"control-K-intended.tsv\", sep=\"\\t\").to_numpy(float).reshape(1, -1)  \n",
        "log = pd.read_csv(\"qc-log.tsv\", sep=\"\\t\")\n",
        "\n",
        "state_cols = [\"x\", \"v\", \"a\"]\n",
        "missing = [c for c in state_cols if c not in log.columns]\n",
        "if missing:\n",
        "    raise ValueError(f\"qc-log.tsv missing columns: {missing}\")\n",
        "\n",
        "X = log[state_cols].to_numpy(float)         \n",
        "u_check = (-K @ X.T).flatten()              \n",
        "\n",
        "if \"index\" in log.columns:\n",
        "    idx = log[\"index\"].to_numpy()\n",
        "else:\n",
        "    idx = np.arange(len(log))\n",
        "\n"
      ]
    },
    {
      "cell_type": "markdown",
      "metadata": {
        "id": "6Z2gHEGBoIjL"
      },
      "source": [
        "Save your computed actions as \"qc-check.tsv\" with columns \"index\" and \"u_check\"."
      ]
    },
    {
      "cell_type": "code",
      "execution_count": 24,
      "metadata": {
        "id": "vbyMYtMLoS72"
      },
      "outputs": [
        {
          "name": "stdout",
          "output_type": "stream",
          "text": [
            "Wrote qc-check.tsv with 100 rows.\n"
          ]
        },
        {
          "data": {
            "text/html": [
              "<div>\n",
              "<style scoped>\n",
              "    .dataframe tbody tr th:only-of-type {\n",
              "        vertical-align: middle;\n",
              "    }\n",
              "\n",
              "    .dataframe tbody tr th {\n",
              "        vertical-align: top;\n",
              "    }\n",
              "\n",
              "    .dataframe thead th {\n",
              "        text-align: right;\n",
              "    }\n",
              "</style>\n",
              "<table border=\"1\" class=\"dataframe\">\n",
              "  <thead>\n",
              "    <tr style=\"text-align: right;\">\n",
              "      <th></th>\n",
              "      <th>index</th>\n",
              "      <th>u_check</th>\n",
              "    </tr>\n",
              "  </thead>\n",
              "  <tbody>\n",
              "    <tr>\n",
              "      <th>0</th>\n",
              "      <td>0</td>\n",
              "      <td>1.672299</td>\n",
              "    </tr>\n",
              "    <tr>\n",
              "      <th>1</th>\n",
              "      <td>1</td>\n",
              "      <td>-1.152095</td>\n",
              "    </tr>\n",
              "    <tr>\n",
              "      <th>2</th>\n",
              "      <td>2</td>\n",
              "      <td>-1.235183</td>\n",
              "    </tr>\n",
              "    <tr>\n",
              "      <th>3</th>\n",
              "      <td>3</td>\n",
              "      <td>-0.288504</td>\n",
              "    </tr>\n",
              "    <tr>\n",
              "      <th>4</th>\n",
              "      <td>4</td>\n",
              "      <td>0.369202</td>\n",
              "    </tr>\n",
              "  </tbody>\n",
              "</table>\n",
              "</div>"
            ],
            "text/plain": [
              "   index   u_check\n",
              "0      0  1.672299\n",
              "1      1 -1.152095\n",
              "2      2 -1.235183\n",
              "3      3 -0.288504\n",
              "4      4  0.369202"
            ]
          },
          "execution_count": 24,
          "metadata": {},
          "output_type": "execute_result"
        }
      ],
      "source": [
        "# YOUR CHANGES HERE\n",
        "\n",
        "qc_check = pd.DataFrame({\"index\": idx, \"u_check\": u_check})\n",
        "qc_check.to_csv(\"qc-check.tsv\", sep=\"\\t\", index=False, float_format=\"%.9f\")\n",
        "print(f\"Wrote qc-check.tsv with {len(qc_check)} rows.\")\n",
        "qc_check.head()"
      ]
    },
    {
      "cell_type": "markdown",
      "metadata": {
        "id": "PDCUyNOfoUzm"
      },
      "source": [
        "Submit \"qc-check.tsv\" in Gradescope."
      ]
    },
    {
      "cell_type": "markdown",
      "metadata": {
        "id": "7Z20uZNHABA-"
      },
      "source": [
        "## Part 3: Reverse Engineer the Actual Control Matrix\n",
        "\n",
        "Now that you have found a systematic difference between your computed actions and the logged actions, estimate $\n",
        "$, the control matrix that was actually used to choose actions in the prototype."
      ]
    },
    {
      "cell_type": "markdown",
      "metadata": {
        "id": "lGoHdtel2iVm"
      },
      "source": [
        "Hint: With a linear quadratic regulator, the optimal actions are always linear combinations of the state that are calculated using the control matrix.\n",
        "You can use linear regression to reverse-engineer the coefficients in the control matrix."
      ]
    },
    {
      "cell_type": "code",
      "execution_count": 25,
      "metadata": {
        "id": "Ab7XnMej21RN"
      },
      "outputs": [],
      "source": [
        "# YOUR CHANGES HERE\n",
        "\n",
        "import numpy as np\n",
        "import pandas as pd\n",
        "\n",
        "# Loading\n",
        "log = pd.read_csv(\"qc-log.tsv\", sep=\"\\t\")\n",
        "\n",
        "state_cols = [\"x\", \"v\", \"a\"]\n",
        "missing = [c for c in state_cols if c not in log.columns]\n",
        "if missing:\n",
        "    raise ValueError(f\"qc-log.tsv missing columns: {missing}\")\n",
        "\n",
        "X = log[state_cols].to_numpy(float)                \n",
        "u_cols = [c for c in log.columns if c not in state_cols + [\"index\"]]\n",
        "if not u_cols:\n",
        "    raise ValueError(\"Could not find any action column in qc-log.tsv.\")\n",
        "u = log[u_cols[0]].to_numpy(float)                 \n",
        "\n",
        "w, *_ = np.linalg.lstsq(X, u, rcond=None)          \n",
        "K_actual = -w.reshape(1, -1)                       "
      ]
    },
    {
      "cell_type": "markdown",
      "metadata": {
        "id": "M7zG_6NT23fq"
      },
      "source": [
        "Save $\\mathbf{K}_{\\mathrm{actual}}$ in \"control-K-actual.tsv\" with the same format as \"control-K-intended.tsv\"."
      ]
    },
    {
      "cell_type": "code",
      "execution_count": 26,
      "metadata": {
        "id": "hPAaZI3M3DKB"
      },
      "outputs": [
        {
          "name": "stdout",
          "output_type": "stream",
          "text": [
            "Wrote control-K-actual.tsv\n"
          ]
        },
        {
          "data": {
            "text/html": [
              "<div>\n",
              "<style scoped>\n",
              "    .dataframe tbody tr th:only-of-type {\n",
              "        vertical-align: middle;\n",
              "    }\n",
              "\n",
              "    .dataframe tbody tr th {\n",
              "        vertical-align: top;\n",
              "    }\n",
              "\n",
              "    .dataframe thead th {\n",
              "        text-align: right;\n",
              "    }\n",
              "</style>\n",
              "<table border=\"1\" class=\"dataframe\">\n",
              "  <thead>\n",
              "    <tr style=\"text-align: right;\">\n",
              "      <th></th>\n",
              "      <th>x</th>\n",
              "      <th>v</th>\n",
              "      <th>a</th>\n",
              "    </tr>\n",
              "  </thead>\n",
              "  <tbody>\n",
              "    <tr>\n",
              "      <th>0</th>\n",
              "      <td>0.340438</td>\n",
              "      <td>1.30012</td>\n",
              "      <td>1.950117</td>\n",
              "    </tr>\n",
              "  </tbody>\n",
              "</table>\n",
              "</div>"
            ],
            "text/plain": [
              "          x        v         a\n",
              "0  0.340438  1.30012  1.950117"
            ]
          },
          "execution_count": 26,
          "metadata": {},
          "output_type": "execute_result"
        }
      ],
      "source": [
        "# YOUR CHANGES HERE\n",
        "K_df = pd.DataFrame(K_actual, columns=state_cols)\n",
        "K_df.to_csv(\"control-K-actual.tsv\", sep=\"\\t\", index=False, float_format=\"%.9f\")\n",
        "print(\"Wrote control-K-actual.tsv\")\n",
        "K_df\n"
      ]
    },
    {
      "cell_type": "markdown",
      "metadata": {
        "id": "EFmODg3W3D2u"
      },
      "source": [
        "Submit \"control-k-actual.tsv\" in Gradescope."
      ]
    },
    {
      "cell_type": "markdown",
      "metadata": {
        "id": "wSuXyz6LAYjK"
      },
      "source": [
        "## Part 4: Recompute the System Dynamics from the Log Data\n",
        "\n",
        "On further investigation, it turns out that the control matrix $\\mathbf{K}$ in the prototype was modified to compensate for state prediction errors.\n",
        "You would like to recompute the $\\mathbf{A}$ and $\\mathbf{B}$ matrices using the log data since they are used to predict the next states.\n",
        "However, since the action vector $\\mathbf{u}_t$ is linearly dependent on the state via $\\mathbf{u}_t=-\\mathbf{K} \\mathbf{x}_t$, you need a new data set so you can separate the effects of the $\\mathbf{A}$ and $\\mathbf{B}$ matrices.\n",
        "Your co-workers kindly provide a new file \"qc-train.tsv\" where noise was added to each action.\n",
        "Estimate the true $\\mathbf{A}$ and $\\mathbf{B}$ matrices based on this file."
      ]
    },
    {
      "cell_type": "code",
      "execution_count": 27,
      "metadata": {
        "id": "13UYre915olG"
      },
      "outputs": [],
      "source": [
        "# YOUR CHANGES HERE\n",
        "\n",
        "import numpy as np\n",
        "import pandas as pd\n",
        "\n",
        "train = pd.read_csv(\"qc-train.tsv\", sep=\"\\t\").copy()\n",
        "\n",
        "state_cols = [\"x\", \"v\", \"a\"]\n",
        "u_col = \"u\" if \"u\" in train.columns else [c for c in train.columns if c not in state_cols + [\"index\"]][0]\n",
        "\n",
        "if \"index\" in train.columns:\n",
        "    train = train.sort_values(\"index\").reset_index(drop=True)\n",
        "\n",
        "X_t   = train[state_cols].to_numpy(float)            \n",
        "U_t   = train[[u_col]].to_numpy(float)               \n",
        "X_tp1 = train[state_cols].shift(-1).to_numpy(float)  \n",
        "\n",
        "X_t   = X_t[:-1, :]\n",
        "U_t   = U_t[:-1, :]\n",
        "X_tp1 = X_tp1[:-1, :]\n",
        "\n",
        "Phi = np.hstack([X_t, U_t])                          \n",
        "W, *_ = np.linalg.lstsq(Phi, X_tp1, rcond=None)      \n",
        "\n",
        "A_new = W[:3, :].T                                   \n",
        "B_new = W[3:, :].T                                   \n",
        "\n",
        "\n"
      ]
    },
    {
      "cell_type": "markdown",
      "metadata": {
        "id": "_Sxidkjb5phM"
      },
      "source": [
        "Save $\\mathbf{A}$ and $\\mathbf{B}$ to \"model-A-new.tsv\" and \"model-B-new.tsv\" respectively."
      ]
    },
    {
      "cell_type": "code",
      "execution_count": 28,
      "metadata": {
        "id": "LzcREdX_5pFS"
      },
      "outputs": [
        {
          "name": "stdout",
          "output_type": "stream",
          "text": [
            "Saved model-A-new.tsv and model-B-new.tsv\n",
            "A_new:\n",
            "               x             v             a\n",
            "0  1.000000e+00  1.100000e+00  2.886580e-15\n",
            "1 -1.281955e-16  9.000000e-01  9.500000e-01\n",
            "2 -9.313780e-17  5.551115e-16  1.100000e+00\n",
            "\n",
            "B_new:\n",
            "               u\n",
            "0 -1.110223e-16\n",
            "1 -1.000000e-02\n",
            "2  9.000000e-01\n"
          ]
        }
      ],
      "source": [
        "# YOUR CHANGES HERE\n",
        "\n",
        "A_df = pd.DataFrame(A_new, columns=state_cols)\n",
        "B_df = pd.DataFrame(B_new, columns=[u_col])\n",
        "\n",
        "A_df.to_csv(\"model-A-new.tsv\", sep=\"\\t\", index=False, float_format=\"%.9f\")\n",
        "B_df.to_csv(\"model-B-new.tsv\", sep=\"\\t\", index=False, float_format=\"%.9f\")\n",
        "\n",
        "print(\"Saved model-A-new.tsv and model-B-new.tsv\")\n",
        "print(\"A_new:\\n\", A_df)\n",
        "print(\"\\nB_new:\\n\", B_df)\n"
      ]
    },
    {
      "cell_type": "markdown",
      "metadata": {
        "id": "UNkBsDgD5vIn"
      },
      "source": [
        "Submit \"model-A-new.tsv\" and \"model-B-new.tsv\" in Gradescope."
      ]
    },
    {
      "cell_type": "markdown",
      "metadata": {
        "id": "smsTLuFcvR-I"
      },
      "source": [
        "## Part 5: Code\n",
        "\n",
        "Please submit a Jupyter notebook that can reproduce all your calculations and recreate the previously submitted files.\n",
        "You do not need to provide code for data collection if you did that by manually."
      ]
    },
    {
      "cell_type": "markdown",
      "metadata": {
        "id": "zi8lV2pbvWMs"
      },
      "source": [
        "## Part 6: Acknowledgements\n",
        "\n",
        "If you discussed this assignment with anyone, please acknowledge them here.\n",
        "If you did this assignment completely on your own, simply write none below.\n",
        "\n",
        "If you used any libraries not mentioned in this module's content, please list them with a brief explanation what you used them for. If you did not use any other libraries, simply write none below.\n",
        "\n",
        "If you used any generative AI tools, please add links to your transcripts below, and any other information that you feel is necessary to comply with the generative AI policy. If you did not use any generative AI tools, simply write none below."
      ]
    },
    {
      "cell_type": "code",
      "execution_count": 29,
      "metadata": {},
      "outputs": [
        {
          "name": "stdout",
          "output_type": "stream",
          "text": [
            "Saved acknowledgments.txt\n"
          ]
        }
      ],
      "source": [
        "text = \"\"\"\n",
        "Acknowledgments\n",
        "\n",
        "People I discussed the assignment with:\n",
        "none\n",
        "\n",
        "Extra libraries used (beyond the course content):\n",
        "none\n",
        "\n",
        "Use of generative AI:\n",
        "none\n",
        "\"\"\"\n",
        "\n",
        "with open(\"acknowledgments.txt\", \"w\", encoding=\"utf-8\") as f:\n",
        "    f.write(text)\n",
        "\n",
        "print(\"Saved acknowledgments.txt\")\n"
      ]
    }
  ],
  "metadata": {
    "colab": {
      "toc_visible": false
    },
    "kernelspec": {
      "display_name": "Python 3",
      "name": "python3"
    },
    "language_info": {
      "codemirror_mode": {
        "name": "ipython",
        "version": 3
      },
      "file_extension": ".py",
      "mimetype": "text/x-python",
      "name": "python",
      "nbconvert_exporter": "python",
      "pygments_lexer": "ipython3",
      "version": "3.12.1"
    }
  },
  "nbformat": 4,
  "nbformat_minor": 0
}
